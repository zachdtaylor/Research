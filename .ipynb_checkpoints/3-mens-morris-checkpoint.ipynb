{
 "cells": [
  {
   "cell_type": "code",
   "execution_count": 1,
   "metadata": {
    "collapsed": true
   },
   "outputs": [],
   "source": [
    "import numpy as np"
   ]
  },
  {
   "cell_type": "code",
   "execution_count": 2,
   "metadata": {
    "collapsed": true
   },
   "outputs": [],
   "source": [
    "board = \"|{0}---{1}---{2}|\\n|:   :   :|\\n|{3}---{4}---{5}|\\n|:   :   :|\\n|{6}---{7}---{8}|\""
   ]
  },
  {
   "cell_type": "code",
   "execution_count": 3,
   "metadata": {
    "collapsed": false
   },
   "outputs": [],
   "source": [
    "def tie(state):\n",
    "    if 0 not in state and not win(state,1) and not win(state,2): \n",
    "        return True\n",
    "    else: return False\n",
    "    \n",
    "def win(state, token):\n",
    "    if token == state[0] == state[1] == state[2]: return True\n",
    "    elif token == state[3] == state[4] == state[5]: return True\n",
    "    elif token == state[6] == state[7] == state[8]: return True\n",
    "    elif token == state[0] == state[3] == state[6]: return True\n",
    "    elif token == state[1] == state[4] == state[7]: return True\n",
    "    elif token == state[2] == state[5] == state[8]: return True\n",
    "    elif token == state[0] == state[4] == state[8]: return True\n",
    "    elif token == state[6] == state[4] == state[2]: return True\n",
    "    else: return False"
   ]
  },
  {
   "cell_type": "code",
   "execution_count": 4,
   "metadata": {
    "collapsed": true
   },
   "outputs": [],
   "source": [
    "class Human:\n",
    "    def getType(self):\n",
    "        return \"Human\"\n",
    "\n",
    "    def play(self, state):\n",
    "        move = int(input(\"Your move: \"))\n",
    "        if move >0 and move < 10:\n",
    "            return move-1\n",
    "        else:\n",
    "            raise ValueError(\"Entry must be a number between 1 and 9\")"
   ]
  },
  {
   "cell_type": "code",
   "execution_count": 5,
   "metadata": {
    "collapsed": false
   },
   "outputs": [],
   "source": [
    "def numX(state):\n",
    "    number_of_X = 0\n",
    "    for i in state:\n",
    "        if i == 'X': number_of_X += 1\n",
    "    return number_of_X\n",
    "\n",
    "def numO(state):\n",
    "    number_of_O = 0\n",
    "    for i in state:\n",
    "        if i == 'O': number_of_O += 1\n",
    "    return number_of_O\n",
    "\n",
    "def playMenMorris(player1, player2):\n",
    "    numboard = [0 for j in range(9)] # Version of the board with numbers\n",
    "    XOboard = [' ' for i in range(9)] # Version of the board with X's and O's\n",
    "    print (board.format(*XOboard), '\\n')\n",
    "    while (numO(XOboard) < 3 or numX(XOboard) < 3):\n",
    "            player1_move = player1.play(XOboard)\n",
    "            numboard[player1_move], XOboard[player1_move] = 1, 'X'\n",
    "            print (board.format(*XOboard), '\\n')\n",
    "            \n",
    "            if win(XOboard, 'X'): \n",
    "                player1_type = player1.getType()\n",
    "                print(\"%s wins!\" % player1_type)\n",
    "                break\n",
    "            \n",
    "            player2_move = player2.play(XOboard)\n",
    "            numboard[player2_move], XOboard[player2_move] = 2, 'O'\n",
    "            print (board.format(*XOboard), '\\n')\n",
    "            \n",
    "            if win(XOboard, 'O'):\n",
    "                player2_type = player2.getType()\n",
    "                print (\"%s wins!\" % player2_type)\n",
    "                break"
   ]
  },
  {
   "cell_type": "code",
   "execution_count": 6,
   "metadata": {
    "collapsed": false
   },
   "outputs": [
    {
     "name": "stdout",
     "output_type": "stream",
     "text": [
      "| --- --- |\n",
      "|:   :   :|\n",
      "| --- --- |\n",
      "|:   :   :|\n",
      "| --- --- | \n",
      "\n",
      "Your move: 1\n",
      "|X--- --- |\n",
      "|:   :   :|\n",
      "| --- --- |\n",
      "|:   :   :|\n",
      "| --- --- | \n",
      "\n",
      "Your move: 5\n",
      "|X--- --- |\n",
      "|:   :   :|\n",
      "| ---O--- |\n",
      "|:   :   :|\n",
      "| --- --- | \n",
      "\n",
      "Your move: 8\n",
      "|X--- --- |\n",
      "|:   :   :|\n",
      "| ---O--- |\n",
      "|:   :   :|\n",
      "| ---X--- | \n",
      "\n",
      "Your move: 2\n",
      "|X---O--- |\n",
      "|:   :   :|\n",
      "| ---O--- |\n",
      "|:   :   :|\n",
      "| ---X--- | \n",
      "\n",
      "Your move: 7\n",
      "|X---O--- |\n",
      "|:   :   :|\n",
      "| ---O--- |\n",
      "|:   :   :|\n",
      "|X---X--- | \n",
      "\n",
      "Your move: 6\n",
      "|X---O--- |\n",
      "|:   :   :|\n",
      "| ---O---O|\n",
      "|:   :   :|\n",
      "|X---X--- | \n",
      "\n"
     ]
    }
   ],
   "source": [
    "player1 = Human()\n",
    "player2 = Human()\n",
    "playMenMorris(player1, player2)"
   ]
  },
  {
   "cell_type": "code",
   "execution_count": null,
   "metadata": {
    "collapsed": true
   },
   "outputs": [],
   "source": []
  }
 ],
 "metadata": {
  "anaconda-cloud": {},
  "kernelspec": {
   "display_name": "Python [Root]",
   "language": "python",
   "name": "Python [Root]"
  },
  "language_info": {
   "codemirror_mode": {
    "name": "ipython",
    "version": 3
   },
   "file_extension": ".py",
   "mimetype": "text/x-python",
   "name": "python",
   "nbconvert_exporter": "python",
   "pygments_lexer": "ipython3",
   "version": "3.5.2"
  }
 },
 "nbformat": 4,
 "nbformat_minor": 0
}
